{
 "cells": [
  {
   "cell_type": "markdown",
   "metadata": {},
   "source": [
    "# Loading data from online DB: PANGAEA"
   ]
  },
  {
   "cell_type": "markdown",
   "metadata": {},
   "source": [
    "APIs for [PANGAEA](https://www.pangaea.de/): https://www.pangaea.de/tools/\n",
    "\n",
    "Documentation for `pangaeapy`: https://github.com/pangaea-data-publisher/pangaeapy"
   ]
  },
  {
   "cell_type": "code",
   "execution_count": null,
   "metadata": {},
   "outputs": [],
   "source": [
    "%%bash\n",
    "pip -q install pangaeapy"
   ]
  },
  {
   "cell_type": "code",
   "execution_count": 1,
   "metadata": {},
   "outputs": [],
   "source": [
    "import pangaeapy as pan\n",
    "# use pangaeapy-functions via pan"
   ]
  },
  {
   "cell_type": "markdown",
   "metadata": {},
   "source": [
    "## Loading"
   ]
  },
  {
   "cell_type": "code",
   "execution_count": 2,
   "metadata": {},
   "outputs": [],
   "source": [
    "pangaea_id = '10.1594/PANGAEA.734969'\n",
    "pangaea_id = '10.1594/PANGAEA.846345'"
   ]
  },
  {
   "cell_type": "code",
   "execution_count": 3,
   "metadata": {},
   "outputs": [],
   "source": [
    "# have a quick look into the raw file:\n",
    "# link: https://doi.pangaea.de/10.1594/PANGAEA.846345"
   ]
  },
  {
   "cell_type": "code",
   "execution_count": 4,
   "metadata": {},
   "outputs": [
    {
     "data": {
      "text/plain": [
       "'Temperature measurements from mooring KPO_1047'"
      ]
     },
     "execution_count": 4,
     "metadata": {},
     "output_type": "execute_result"
    }
   ],
   "source": [
    "# load data from pangaea\n",
    "pangaea_data = pan.PanDataSet(pangaea_id)\n",
    "pangaea_data.title"
   ]
  },
  {
   "cell_type": "markdown",
   "metadata": {},
   "source": [
    "## Examining"
   ]
  },
  {
   "cell_type": "code",
   "execution_count": 5,
   "metadata": {},
   "outputs": [
    {
     "data": {
      "text/html": [
       "<div>\n",
       "<style scoped>\n",
       "    .dataframe tbody tr th:only-of-type {\n",
       "        vertical-align: middle;\n",
       "    }\n",
       "\n",
       "    .dataframe tbody tr th {\n",
       "        vertical-align: top;\n",
       "    }\n",
       "\n",
       "    .dataframe thead th {\n",
       "        text-align: right;\n",
       "    }\n",
       "</style>\n",
       "<table border=\"1\" class=\"dataframe\">\n",
       "  <thead>\n",
       "    <tr style=\"text-align: right;\">\n",
       "      <th></th>\n",
       "      <th>Date/Time</th>\n",
       "      <th>Depth water</th>\n",
       "      <th>Temp</th>\n",
       "    </tr>\n",
       "  </thead>\n",
       "  <tbody>\n",
       "    <tr>\n",
       "      <th>0</th>\n",
       "      <td>2009-10-31 20:00:00</td>\n",
       "      <td>775.9</td>\n",
       "      <td>5.54</td>\n",
       "    </tr>\n",
       "    <tr>\n",
       "      <th>1</th>\n",
       "      <td>2009-10-31 22:00:00</td>\n",
       "      <td>775.7</td>\n",
       "      <td>5.53</td>\n",
       "    </tr>\n",
       "    <tr>\n",
       "      <th>2</th>\n",
       "      <td>2009-11-01 00:00:00</td>\n",
       "      <td>775.8</td>\n",
       "      <td>5.53</td>\n",
       "    </tr>\n",
       "    <tr>\n",
       "      <th>3</th>\n",
       "      <td>2009-11-01 02:00:00</td>\n",
       "      <td>776.2</td>\n",
       "      <td>5.53</td>\n",
       "    </tr>\n",
       "    <tr>\n",
       "      <th>4</th>\n",
       "      <td>2009-11-01 04:00:00</td>\n",
       "      <td>776.4</td>\n",
       "      <td>5.48</td>\n",
       "    </tr>\n",
       "    <tr>\n",
       "      <th>...</th>\n",
       "      <td>...</td>\n",
       "      <td>...</td>\n",
       "      <td>...</td>\n",
       "    </tr>\n",
       "    <tr>\n",
       "      <th>6722</th>\n",
       "      <td>2011-05-15 00:00:00</td>\n",
       "      <td>773.1</td>\n",
       "      <td>5.50</td>\n",
       "    </tr>\n",
       "    <tr>\n",
       "      <th>6723</th>\n",
       "      <td>2011-05-15 02:00:00</td>\n",
       "      <td>773.4</td>\n",
       "      <td>5.47</td>\n",
       "    </tr>\n",
       "    <tr>\n",
       "      <th>6724</th>\n",
       "      <td>2011-05-15 04:00:00</td>\n",
       "      <td>774.2</td>\n",
       "      <td>5.51</td>\n",
       "    </tr>\n",
       "    <tr>\n",
       "      <th>6725</th>\n",
       "      <td>2011-05-15 06:00:00</td>\n",
       "      <td>774.1</td>\n",
       "      <td>5.52</td>\n",
       "    </tr>\n",
       "    <tr>\n",
       "      <th>6726</th>\n",
       "      <td>2011-05-15 08:00:00</td>\n",
       "      <td>773.6</td>\n",
       "      <td>5.45</td>\n",
       "    </tr>\n",
       "  </tbody>\n",
       "</table>\n",
       "<p>6727 rows × 3 columns</p>\n",
       "</div>"
      ],
      "text/plain": [
       "               Date/Time  Depth water  Temp\n",
       "0    2009-10-31 20:00:00        775.9  5.54\n",
       "1    2009-10-31 22:00:00        775.7  5.53\n",
       "2    2009-11-01 00:00:00        775.8  5.53\n",
       "3    2009-11-01 02:00:00        776.2  5.53\n",
       "4    2009-11-01 04:00:00        776.4  5.48\n",
       "...                  ...          ...   ...\n",
       "6722 2011-05-15 00:00:00        773.1  5.50\n",
       "6723 2011-05-15 02:00:00        773.4  5.47\n",
       "6724 2011-05-15 04:00:00        774.2  5.51\n",
       "6725 2011-05-15 06:00:00        774.1  5.52\n",
       "6726 2011-05-15 08:00:00        773.6  5.45\n",
       "\n",
       "[6727 rows x 3 columns]"
      ]
     },
     "execution_count": 5,
     "metadata": {},
     "output_type": "execute_result"
    }
   ],
   "source": [
    "pangaea_data.data"
   ]
  },
  {
   "cell_type": "code",
   "execution_count": 6,
   "metadata": {},
   "outputs": [
    {
     "name": "stdout",
     "output_type": "stream",
     "text": [
      "MSM18/2_618-1\n"
     ]
    }
   ],
   "source": [
    "for ev in pangaea_data.events:\n",
    "    print(ev.label)"
   ]
  },
  {
   "cell_type": "code",
   "execution_count": 7,
   "metadata": {},
   "outputs": [
    {
     "data": {
      "text/html": [
       "<div>\n",
       "<style scoped>\n",
       "    .dataframe tbody tr th:only-of-type {\n",
       "        vertical-align: middle;\n",
       "    }\n",
       "\n",
       "    .dataframe tbody tr th {\n",
       "        vertical-align: top;\n",
       "    }\n",
       "\n",
       "    .dataframe thead th {\n",
       "        text-align: right;\n",
       "    }\n",
       "</style>\n",
       "<table border=\"1\" class=\"dataframe\">\n",
       "  <thead>\n",
       "    <tr style=\"text-align: right;\">\n",
       "      <th></th>\n",
       "      <th>Depth water</th>\n",
       "      <th>Temp</th>\n",
       "    </tr>\n",
       "  </thead>\n",
       "  <tbody>\n",
       "    <tr>\n",
       "      <th>count</th>\n",
       "      <td>6727.000000</td>\n",
       "      <td>6727.000000</td>\n",
       "    </tr>\n",
       "    <tr>\n",
       "      <th>mean</th>\n",
       "      <td>774.273584</td>\n",
       "      <td>5.431640</td>\n",
       "    </tr>\n",
       "    <tr>\n",
       "      <th>std</th>\n",
       "      <td>0.746539</td>\n",
       "      <td>0.101308</td>\n",
       "    </tr>\n",
       "    <tr>\n",
       "      <th>min</th>\n",
       "      <td>772.500000</td>\n",
       "      <td>5.050000</td>\n",
       "    </tr>\n",
       "    <tr>\n",
       "      <th>25%</th>\n",
       "      <td>773.700000</td>\n",
       "      <td>5.370000</td>\n",
       "    </tr>\n",
       "    <tr>\n",
       "      <th>50%</th>\n",
       "      <td>774.200000</td>\n",
       "      <td>5.440000</td>\n",
       "    </tr>\n",
       "    <tr>\n",
       "      <th>75%</th>\n",
       "      <td>774.800000</td>\n",
       "      <td>5.500000</td>\n",
       "    </tr>\n",
       "    <tr>\n",
       "      <th>max</th>\n",
       "      <td>778.000000</td>\n",
       "      <td>5.900000</td>\n",
       "    </tr>\n",
       "  </tbody>\n",
       "</table>\n",
       "</div>"
      ],
      "text/plain": [
       "       Depth water         Temp\n",
       "count  6727.000000  6727.000000\n",
       "mean    774.273584     5.431640\n",
       "std       0.746539     0.101308\n",
       "min     772.500000     5.050000\n",
       "25%     773.700000     5.370000\n",
       "50%     774.200000     5.440000\n",
       "75%     774.800000     5.500000\n",
       "max     778.000000     5.900000"
      ]
     },
     "execution_count": 7,
     "metadata": {},
     "output_type": "execute_result"
    }
   ],
   "source": [
    "# show statistics\n",
    "pangaea_data.data.describe()"
   ]
  },
  {
   "cell_type": "code",
   "execution_count": 8,
   "metadata": {},
   "outputs": [
    {
     "data": {
      "text/plain": [
       "<AxesSubplot:>"
      ]
     },
     "execution_count": 8,
     "metadata": {},
     "output_type": "execute_result"
    },
    {
     "data": {
      "image/png": "[encoded data removed]",
      "text/plain": [
       "<Figure size 432x288 with 1 Axes>"
      ]
     },
     "metadata": {
      "needs_background": "light"
     },
     "output_type": "display_data"
    }
   ],
   "source": [
    "# plot data\n",
    "#pangaea_data.data.plot()\n",
    "pangaea_data.data.Temp.plot()\n",
    "#pangaea_data.data['Depth water'].plot()"
   ]
  },
  {
   "cell_type": "markdown",
   "metadata": {},
   "source": [
    "## How do I get the Pangaea-ID?"
   ]
  },
  {
   "cell_type": "markdown",
   "metadata": {},
   "source": [
    "one way:\n",
    "\n",
    "- go to pangaea.de\n",
    "- search for data you are interested in\n",
    "- copy the IDs to a csv-file\n",
    "- load the csv into python\n",
    "\n",
    "...\n",
    "\n",
    "\n",
    "another way:\n",
    "\n",
    "use the R-package provided for Pangaea-Access: https://docs.ropensci.org/pangaear/ **in PYTHON (!!!!)** with `rpy2`\n",
    "\n",
    "**INFO**: you need to have R installed on your laptop!"
   ]
  },
  {
   "cell_type": "code",
   "execution_count": 9,
   "metadata": {},
   "outputs": [],
   "source": [
    "# activate %%R magic\n",
    "%load_ext rpy2.ipython"
   ]
  },
  {
   "cell_type": "code",
   "execution_count": null,
   "metadata": {},
   "outputs": [],
   "source": [
    "%%R\n",
    "install.packages(\"pangaear\", repos=\"http://cran.us.r-project.org\", quiet=TRUE)\n",
    "library(pangaear, quiet=TRUE)"
   ]
  },
  {
   "cell_type": "code",
   "execution_count": 11,
   "metadata": {},
   "outputs": [],
   "source": [
    "%%R -o entries\n",
    "entries = pg_search(query = 'Temperature measurements from mooring KPO_1047')\n",
    "entries = pg_search(query = 'SFB754', count = 500)"
   ]
  },
  {
   "cell_type": "code",
   "execution_count": 12,
   "metadata": {},
   "outputs": [
    {
     "data": {
      "text/html": [
       "<div>\n",
       "<style scoped>\n",
       "    .dataframe tbody tr th:only-of-type {\n",
       "        vertical-align: middle;\n",
       "    }\n",
       "\n",
       "    .dataframe tbody tr th {\n",
       "        vertical-align: top;\n",
       "    }\n",
       "\n",
       "    .dataframe thead th {\n",
       "        text-align: right;\n",
       "    }\n",
       "</style>\n",
       "<table border=\"1\" class=\"dataframe\">\n",
       "  <thead>\n",
       "    <tr style=\"text-align: right;\">\n",
       "      <th></th>\n",
       "      <th>score</th>\n",
       "      <th>doi</th>\n",
       "      <th>size</th>\n",
       "      <th>size_measure</th>\n",
       "      <th>citation</th>\n",
       "      <th>supplement_to</th>\n",
       "    </tr>\n",
       "  </thead>\n",
       "  <tbody>\n",
       "    <tr>\n",
       "      <th>1</th>\n",
       "      <td>30.231436</td>\n",
       "      <td>10.1594/PANGAEA.903913</td>\n",
       "      <td>33.0</td>\n",
       "      <td>datasets</td>\n",
       "      <td>Burmeister, K; Lübbecke, J; Brandt, P et al. (...</td>\n",
       "      <td>NA_character_</td>\n",
       "    </tr>\n",
       "    <tr>\n",
       "      <th>2</th>\n",
       "      <td>25.928877</td>\n",
       "      <td>10.1594/PANGAEA.918915</td>\n",
       "      <td>8.0</td>\n",
       "      <td>datasets</td>\n",
       "      <td>Stenvers, V; Hauss, H; Freitas, R et al. (2020...</td>\n",
       "      <td>NA_character_</td>\n",
       "    </tr>\n",
       "    <tr>\n",
       "      <th>3</th>\n",
       "      <td>25.928877</td>\n",
       "      <td>10.1594/PANGAEA.918339</td>\n",
       "      <td>10.0</td>\n",
       "      <td>datasets</td>\n",
       "      <td>Dale, A; Treude, T (2020): Nutrients in sedime...</td>\n",
       "      <td>NA_character_</td>\n",
       "    </tr>\n",
       "    <tr>\n",
       "      <th>4</th>\n",
       "      <td>25.928877</td>\n",
       "      <td>10.1594/PANGAEA.924375</td>\n",
       "      <td>2.0</td>\n",
       "      <td>datasets</td>\n",
       "      <td>Kiko, R (2020): The global marine particle siz...</td>\n",
       "      <td>NA_character_</td>\n",
       "    </tr>\n",
       "    <tr>\n",
       "      <th>5</th>\n",
       "      <td>25.867130</td>\n",
       "      <td>10.1594/PANGAEA.900929</td>\n",
       "      <td>2.0</td>\n",
       "      <td>datasets</td>\n",
       "      <td>Loginova, A; Engel, A (2019): Dissolved organi...</td>\n",
       "      <td>Loginova, A; Thomsen, S; Dengler, M et al. (20...</td>\n",
       "    </tr>\n",
       "    <tr>\n",
       "      <th>...</th>\n",
       "      <td>...</td>\n",
       "      <td>...</td>\n",
       "      <td>...</td>\n",
       "      <td>...</td>\n",
       "      <td>...</td>\n",
       "      <td>...</td>\n",
       "    </tr>\n",
       "    <tr>\n",
       "      <th>496</th>\n",
       "      <td>9.568721</td>\n",
       "      <td>10.1594/PANGAEA.923485</td>\n",
       "      <td>100.0</td>\n",
       "      <td>data points</td>\n",
       "      <td>Sommer, S; Dale, A (2020): Particulate geochem...</td>\n",
       "      <td>NA_character_</td>\n",
       "    </tr>\n",
       "    <tr>\n",
       "      <th>497</th>\n",
       "      <td>9.568721</td>\n",
       "      <td>10.1594/PANGAEA.923502</td>\n",
       "      <td>109.0</td>\n",
       "      <td>data points</td>\n",
       "      <td>Sommer, S; Dale, A (2020): Particulate geochem...</td>\n",
       "      <td>NA_character_</td>\n",
       "    </tr>\n",
       "    <tr>\n",
       "      <th>498</th>\n",
       "      <td>9.568721</td>\n",
       "      <td>10.1594/PANGAEA.922540</td>\n",
       "      <td>130.0</td>\n",
       "      <td>data points</td>\n",
       "      <td>Sommer, S; Dale, A (2020): Particulate geochem...</td>\n",
       "      <td>NA_character_</td>\n",
       "    </tr>\n",
       "    <tr>\n",
       "      <th>499</th>\n",
       "      <td>9.568721</td>\n",
       "      <td>10.1594/PANGAEA.922541</td>\n",
       "      <td>60.0</td>\n",
       "      <td>data points</td>\n",
       "      <td>Sommer, S; Dale, A (2020): Particulate geochem...</td>\n",
       "      <td>NA_character_</td>\n",
       "    </tr>\n",
       "    <tr>\n",
       "      <th>500</th>\n",
       "      <td>9.541237</td>\n",
       "      <td>10.1594/PANGAEA.867633</td>\n",
       "      <td>292.0</td>\n",
       "      <td>data points</td>\n",
       "      <td>Dale, A; Lomnitz, U; Sommer, S (2016): Porewat...</td>\n",
       "      <td>NA_character_</td>\n",
       "    </tr>\n",
       "  </tbody>\n",
       "</table>\n",
       "<p>500 rows × 6 columns</p>\n",
       "</div>"
      ],
      "text/plain": [
       "         score                     doi   size size_measure  \\\n",
       "1    30.231436  10.1594/PANGAEA.903913   33.0     datasets   \n",
       "2    25.928877  10.1594/PANGAEA.918915    8.0     datasets   \n",
       "3    25.928877  10.1594/PANGAEA.918339   10.0     datasets   \n",
       "4    25.928877  10.1594/PANGAEA.924375    2.0     datasets   \n",
       "5    25.867130  10.1594/PANGAEA.900929    2.0     datasets   \n",
       "..         ...                     ...    ...          ...   \n",
       "496   9.568721  10.1594/PANGAEA.923485  100.0  data points   \n",
       "497   9.568721  10.1594/PANGAEA.923502  109.0  data points   \n",
       "498   9.568721  10.1594/PANGAEA.922540  130.0  data points   \n",
       "499   9.568721  10.1594/PANGAEA.922541   60.0  data points   \n",
       "500   9.541237  10.1594/PANGAEA.867633  292.0  data points   \n",
       "\n",
       "                                              citation  \\\n",
       "1    Burmeister, K; Lübbecke, J; Brandt, P et al. (...   \n",
       "2    Stenvers, V; Hauss, H; Freitas, R et al. (2020...   \n",
       "3    Dale, A; Treude, T (2020): Nutrients in sedime...   \n",
       "4    Kiko, R (2020): The global marine particle siz...   \n",
       "5    Loginova, A; Engel, A (2019): Dissolved organi...   \n",
       "..                                                 ...   \n",
       "496  Sommer, S; Dale, A (2020): Particulate geochem...   \n",
       "497  Sommer, S; Dale, A (2020): Particulate geochem...   \n",
       "498  Sommer, S; Dale, A (2020): Particulate geochem...   \n",
       "499  Sommer, S; Dale, A (2020): Particulate geochem...   \n",
       "500  Dale, A; Lomnitz, U; Sommer, S (2016): Porewat...   \n",
       "\n",
       "                                         supplement_to  \n",
       "1                                        NA_character_  \n",
       "2                                        NA_character_  \n",
       "3                                        NA_character_  \n",
       "4                                        NA_character_  \n",
       "5    Loginova, A; Thomsen, S; Dengler, M et al. (20...  \n",
       "..                                                 ...  \n",
       "496                                      NA_character_  \n",
       "497                                      NA_character_  \n",
       "498                                      NA_character_  \n",
       "499                                      NA_character_  \n",
       "500                                      NA_character_  \n",
       "\n",
       "[500 rows x 6 columns]"
      ]
     },
     "execution_count": 12,
     "metadata": {},
     "output_type": "execute_result"
    }
   ],
   "source": [
    "entries"
   ]
  },
  {
   "cell_type": "code",
   "execution_count": 13,
   "metadata": {},
   "outputs": [
    {
     "data": {
      "text/plain": [
       "1      10.1594/PANGAEA.903913\n",
       "2      10.1594/PANGAEA.918915\n",
       "3      10.1594/PANGAEA.918339\n",
       "4      10.1594/PANGAEA.924375\n",
       "5      10.1594/PANGAEA.900929\n",
       "                ...          \n",
       "496    10.1594/PANGAEA.923485\n",
       "497    10.1594/PANGAEA.923502\n",
       "498    10.1594/PANGAEA.922540\n",
       "499    10.1594/PANGAEA.922541\n",
       "500    10.1594/PANGAEA.867633\n",
       "Name: doi, Length: 500, dtype: object"
      ]
     },
     "execution_count": 13,
     "metadata": {},
     "output_type": "execute_result"
    }
   ],
   "source": [
    "entries.doi"
   ]
  },
  {
   "cell_type": "code",
   "execution_count": 14,
   "metadata": {},
   "outputs": [
    {
     "data": {
      "text/plain": [
       "'Ventilation of the eastern tropical North Atlantic by intraseasonal flow events of the North Equatorial Undercurrent'"
      ]
     },
     "execution_count": 14,
     "metadata": {},
     "output_type": "execute_result"
    }
   ],
   "source": [
    "pangaea_data = pan.PanDataSet(entries.doi[0])\n",
    "pangaea_data.title"
   ]
  },
  {
   "cell_type": "code",
   "execution_count": 15,
   "metadata": {},
   "outputs": [
    {
     "data": {
      "text/plain": [
       "'Burmeister'"
      ]
     },
     "execution_count": 15,
     "metadata": {},
     "output_type": "execute_result"
    }
   ],
   "source": [
    "pangaea_data.authors[0].lastname"
   ]
  },
  {
   "cell_type": "code",
   "execution_count": 16,
   "metadata": {},
   "outputs": [
    {
     "data": {
      "text/plain": [
       "'Kristin'"
      ]
     },
     "execution_count": 16,
     "metadata": {},
     "output_type": "execute_result"
    }
   ],
   "source": [
    "pangaea_data.authors[0].firstname"
   ]
  },
  {
   "cell_type": "code",
   "execution_count": 17,
   "metadata": {},
   "outputs": [
    {
     "data": {
      "text/plain": [
       "'0000-0003-3881-0298'"
      ]
     },
     "execution_count": 17,
     "metadata": {},
     "output_type": "execute_result"
    }
   ],
   "source": [
    "pangaea_data.authors[0].ORCID"
   ]
  },
  {
   "cell_type": "code",
   "execution_count": 18,
   "metadata": {},
   "outputs": [
    {
     "name": "stdout",
     "output_type": "stream",
     "text": [
      "Burmeister\n",
      "Kristin\n",
      "0000-0003-3881-0298\n",
      "\n",
      "Lübbecke\n",
      "Joke\n",
      "0000-0002-7839-3284\n",
      "\n",
      "Brandt\n",
      "Peter\n",
      "0000-0002-9235-955X\n",
      "\n",
      "Claus\n",
      "Martin\n",
      "0000-0002-7525-5134\n",
      "\n",
      "Hahn\n",
      "Johannes\n",
      "0000-0002-5638-2031\n",
      "\n"
     ]
    }
   ],
   "source": [
    "for author in pangaea_data.authors:\n",
    "    print(author.lastname)\n",
    "    print(author.firstname)\n",
    "    print(author.ORCID)\n",
    "    print(\"\")"
   ]
  },
  {
   "cell_type": "markdown",
   "metadata": {},
   "source": [
    "### Advanced Data Loading from Pangaea"
   ]
  },
  {
   "cell_type": "markdown",
   "metadata": {},
   "source": [
    "the following command does not show anything... why?"
   ]
  },
  {
   "cell_type": "code",
   "execution_count": 19,
   "metadata": {},
   "outputs": [
    {
     "data": {
      "text/html": [
       "<div>\n",
       "<style scoped>\n",
       "    .dataframe tbody tr th:only-of-type {\n",
       "        vertical-align: middle;\n",
       "    }\n",
       "\n",
       "    .dataframe tbody tr th {\n",
       "        vertical-align: top;\n",
       "    }\n",
       "\n",
       "    .dataframe thead th {\n",
       "        text-align: right;\n",
       "    }\n",
       "</style>\n",
       "<table border=\"1\" class=\"dataframe\">\n",
       "  <thead>\n",
       "    <tr style=\"text-align: right;\">\n",
       "      <th></th>\n",
       "    </tr>\n",
       "  </thead>\n",
       "  <tbody>\n",
       "  </tbody>\n",
       "</table>\n",
       "</div>"
      ],
      "text/plain": [
       "Empty DataFrame\n",
       "Columns: []\n",
       "Index: []"
      ]
     },
     "execution_count": 19,
     "metadata": {},
     "output_type": "execute_result"
    }
   ],
   "source": [
    "pangaea_data.data"
   ]
  },
  {
   "cell_type": "markdown",
   "metadata": {},
   "source": [
    "the first entry in `entries`is a `dataset` instead of `data points`\n",
    "\n",
    "\n",
    "A `dataset` is a collection of other `dataset`s or `data points`"
   ]
  },
  {
   "cell_type": "code",
   "execution_count": 20,
   "metadata": {},
   "outputs": [
    {
     "data": {
      "text/plain": [
       "'datasets'"
      ]
     },
     "execution_count": 20,
     "metadata": {},
     "output_type": "execute_result"
    }
   ],
   "source": [
    "entries.size_measure[0]"
   ]
  },
  {
   "cell_type": "markdown",
   "metadata": {},
   "source": [
    "let's have a R-supported look at what this means (for a small `dataset`) "
   ]
  },
  {
   "cell_type": "code",
   "execution_count": null,
   "metadata": {},
   "outputs": [],
   "source": [
    "%%R -i entries\n",
    "pg_data(entries$doi[5])"
   ]
  },
  {
   "cell_type": "markdown",
   "metadata": {},
   "source": [
    "quick fix: only select `data points`"
   ]
  },
  {
   "cell_type": "code",
   "execution_count": 22,
   "metadata": {},
   "outputs": [
    {
     "data": {
      "text/html": [
       "<div>\n",
       "<style scoped>\n",
       "    .dataframe tbody tr th:only-of-type {\n",
       "        vertical-align: middle;\n",
       "    }\n",
       "\n",
       "    .dataframe tbody tr th {\n",
       "        vertical-align: top;\n",
       "    }\n",
       "\n",
       "    .dataframe thead th {\n",
       "        text-align: right;\n",
       "    }\n",
       "</style>\n",
       "<table border=\"1\" class=\"dataframe\">\n",
       "  <thead>\n",
       "    <tr style=\"text-align: right;\">\n",
       "      <th></th>\n",
       "      <th>score</th>\n",
       "      <th>doi</th>\n",
       "      <th>size</th>\n",
       "      <th>size_measure</th>\n",
       "      <th>citation</th>\n",
       "      <th>supplement_to</th>\n",
       "    </tr>\n",
       "  </thead>\n",
       "  <tbody>\n",
       "    <tr>\n",
       "      <th>6</th>\n",
       "      <td>25.315649</td>\n",
       "      <td>10.1594/PANGAEA.919740</td>\n",
       "      <td>97.0</td>\n",
       "      <td>data points</td>\n",
       "      <td>Glock, N (2020): I/Ca ratios in recent benthic...</td>\n",
       "      <td>NA_character_</td>\n",
       "    </tr>\n",
       "    <tr>\n",
       "      <th>16</th>\n",
       "      <td>23.219350</td>\n",
       "      <td>10.1594/PANGAEA.919761</td>\n",
       "      <td>1681.0</td>\n",
       "      <td>data points</td>\n",
       "      <td>Glock, N (2020): I/Ca, N/Ca and S/Ca ratios in...</td>\n",
       "      <td>NA_character_</td>\n",
       "    </tr>\n",
       "    <tr>\n",
       "      <th>24</th>\n",
       "      <td>21.908241</td>\n",
       "      <td>10.1594/PANGAEA.919742</td>\n",
       "      <td>196.0</td>\n",
       "      <td>data points</td>\n",
       "      <td>Glock, N (2020): Individual I/Ca ratios in rec...</td>\n",
       "      <td>NA_character_</td>\n",
       "    </tr>\n",
       "    <tr>\n",
       "      <th>63</th>\n",
       "      <td>16.382425</td>\n",
       "      <td>10.1594/PANGAEA.877387</td>\n",
       "      <td>4.0</td>\n",
       "      <td>data points</td>\n",
       "      <td>Krahmann, G; Dengler, M; Thomsen, S et al. (20...</td>\n",
       "      <td>NA_character_</td>\n",
       "    </tr>\n",
       "    <tr>\n",
       "      <th>64</th>\n",
       "      <td>16.246304</td>\n",
       "      <td>10.1594/PANGAEA.877392</td>\n",
       "      <td>4.0</td>\n",
       "      <td>data points</td>\n",
       "      <td>Krahmann, G; Dengler, M; Thomsen, S et al. (20...</td>\n",
       "      <td>NA_character_</td>\n",
       "    </tr>\n",
       "    <tr>\n",
       "      <th>...</th>\n",
       "      <td>...</td>\n",
       "      <td>...</td>\n",
       "      <td>...</td>\n",
       "      <td>...</td>\n",
       "      <td>...</td>\n",
       "      <td>...</td>\n",
       "    </tr>\n",
       "    <tr>\n",
       "      <th>496</th>\n",
       "      <td>9.568721</td>\n",
       "      <td>10.1594/PANGAEA.923485</td>\n",
       "      <td>100.0</td>\n",
       "      <td>data points</td>\n",
       "      <td>Sommer, S; Dale, A (2020): Particulate geochem...</td>\n",
       "      <td>NA_character_</td>\n",
       "    </tr>\n",
       "    <tr>\n",
       "      <th>497</th>\n",
       "      <td>9.568721</td>\n",
       "      <td>10.1594/PANGAEA.923502</td>\n",
       "      <td>109.0</td>\n",
       "      <td>data points</td>\n",
       "      <td>Sommer, S; Dale, A (2020): Particulate geochem...</td>\n",
       "      <td>NA_character_</td>\n",
       "    </tr>\n",
       "    <tr>\n",
       "      <th>498</th>\n",
       "      <td>9.568721</td>\n",
       "      <td>10.1594/PANGAEA.922540</td>\n",
       "      <td>130.0</td>\n",
       "      <td>data points</td>\n",
       "      <td>Sommer, S; Dale, A (2020): Particulate geochem...</td>\n",
       "      <td>NA_character_</td>\n",
       "    </tr>\n",
       "    <tr>\n",
       "      <th>499</th>\n",
       "      <td>9.568721</td>\n",
       "      <td>10.1594/PANGAEA.922541</td>\n",
       "      <td>60.0</td>\n",
       "      <td>data points</td>\n",
       "      <td>Sommer, S; Dale, A (2020): Particulate geochem...</td>\n",
       "      <td>NA_character_</td>\n",
       "    </tr>\n",
       "    <tr>\n",
       "      <th>500</th>\n",
       "      <td>9.541237</td>\n",
       "      <td>10.1594/PANGAEA.867633</td>\n",
       "      <td>292.0</td>\n",
       "      <td>data points</td>\n",
       "      <td>Dale, A; Lomnitz, U; Sommer, S (2016): Porewat...</td>\n",
       "      <td>NA_character_</td>\n",
       "    </tr>\n",
       "  </tbody>\n",
       "</table>\n",
       "<p>376 rows × 6 columns</p>\n",
       "</div>"
      ],
      "text/plain": [
       "         score                     doi    size size_measure  \\\n",
       "6    25.315649  10.1594/PANGAEA.919740    97.0  data points   \n",
       "16   23.219350  10.1594/PANGAEA.919761  1681.0  data points   \n",
       "24   21.908241  10.1594/PANGAEA.919742   196.0  data points   \n",
       "63   16.382425  10.1594/PANGAEA.877387     4.0  data points   \n",
       "64   16.246304  10.1594/PANGAEA.877392     4.0  data points   \n",
       "..         ...                     ...     ...          ...   \n",
       "496   9.568721  10.1594/PANGAEA.923485   100.0  data points   \n",
       "497   9.568721  10.1594/PANGAEA.923502   109.0  data points   \n",
       "498   9.568721  10.1594/PANGAEA.922540   130.0  data points   \n",
       "499   9.568721  10.1594/PANGAEA.922541    60.0  data points   \n",
       "500   9.541237  10.1594/PANGAEA.867633   292.0  data points   \n",
       "\n",
       "                                              citation  supplement_to  \n",
       "6    Glock, N (2020): I/Ca ratios in recent benthic...  NA_character_  \n",
       "16   Glock, N (2020): I/Ca, N/Ca and S/Ca ratios in...  NA_character_  \n",
       "24   Glock, N (2020): Individual I/Ca ratios in rec...  NA_character_  \n",
       "63   Krahmann, G; Dengler, M; Thomsen, S et al. (20...  NA_character_  \n",
       "64   Krahmann, G; Dengler, M; Thomsen, S et al. (20...  NA_character_  \n",
       "..                                                 ...            ...  \n",
       "496  Sommer, S; Dale, A (2020): Particulate geochem...  NA_character_  \n",
       "497  Sommer, S; Dale, A (2020): Particulate geochem...  NA_character_  \n",
       "498  Sommer, S; Dale, A (2020): Particulate geochem...  NA_character_  \n",
       "499  Sommer, S; Dale, A (2020): Particulate geochem...  NA_character_  \n",
       "500  Dale, A; Lomnitz, U; Sommer, S (2016): Porewat...  NA_character_  \n",
       "\n",
       "[376 rows x 6 columns]"
      ]
     },
     "execution_count": 22,
     "metadata": {},
     "output_type": "execute_result"
    }
   ],
   "source": [
    "entries_datapoints = entries[entries[\"size_measure\"] == \"data points\"]\n",
    "entries_datapoints"
   ]
  },
  {
   "cell_type": "code",
   "execution_count": 23,
   "metadata": {},
   "outputs": [
    {
     "data": {
      "text/plain": [
       "'I/Ca ratios in recent benthic foraminifera from the Peruvian OMZ (Q-ICP-MS data)'"
      ]
     },
     "execution_count": 23,
     "metadata": {},
     "output_type": "execute_result"
    }
   ],
   "source": [
    "pangaea_data = pan.PanDataSet(entries_datapoints.doi[0])\n",
    "pangaea_data.title"
   ]
  },
  {
   "cell_type": "code",
   "execution_count": 24,
   "metadata": {},
   "outputs": [
    {
     "name": "stdout",
     "output_type": "stream",
     "text": [
      "Glock\n",
      "Nicolaas\n",
      "None\n",
      "\n"
     ]
    }
   ],
   "source": [
    "for author in pangaea_data.authors:\n",
    "    print(author.lastname)\n",
    "    print(author.firstname)\n",
    "    print(author.ORCID)\n",
    "    print(\"\")"
   ]
  },
  {
   "cell_type": "code",
   "execution_count": 25,
   "metadata": {},
   "outputs": [
    {
     "data": {
      "text/html": [
       "<div>\n",
       "<style scoped>\n",
       "    .dataframe tbody tr th:only-of-type {\n",
       "        vertical-align: middle;\n",
       "    }\n",
       "\n",
       "    .dataframe tbody tr th {\n",
       "        vertical-align: top;\n",
       "    }\n",
       "\n",
       "    .dataframe thead th {\n",
       "        text-align: right;\n",
       "    }\n",
       "</style>\n",
       "<table border=\"1\" class=\"dataframe\">\n",
       "  <thead>\n",
       "    <tr style=\"text-align: right;\">\n",
       "      <th></th>\n",
       "      <th>Event</th>\n",
       "      <th>Latitude</th>\n",
       "      <th>Longitude</th>\n",
       "      <th>Elevation</th>\n",
       "      <th>Sample label</th>\n",
       "      <th>Species</th>\n",
       "      <th>n</th>\n",
       "      <th>I/Ca</th>\n",
       "      <th>Uncertainty</th>\n",
       "      <th>Precip</th>\n",
       "      <th>O2</th>\n",
       "    </tr>\n",
       "  </thead>\n",
       "  <tbody>\n",
       "    <tr>\n",
       "      <th>0</th>\n",
       "      <td>M77/1_406-1</td>\n",
       "      <td>-17.4667</td>\n",
       "      <td>-71.8732</td>\n",
       "      <td>-491</td>\n",
       "      <td>M77-1 406/MUC-06</td>\n",
       "      <td>P. limbata</td>\n",
       "      <td>1</td>\n",
       "      <td>2.20</td>\n",
       "      <td>NaN</td>\n",
       "      <td>1.28</td>\n",
       "      <td>25.2</td>\n",
       "    </tr>\n",
       "    <tr>\n",
       "      <th>1</th>\n",
       "      <td>M77/1_455-1</td>\n",
       "      <td>-11.0000</td>\n",
       "      <td>-78.3207</td>\n",
       "      <td>-466</td>\n",
       "      <td>M77-1 455/MUC-21</td>\n",
       "      <td>U. striata</td>\n",
       "      <td>6</td>\n",
       "      <td>0.32</td>\n",
       "      <td>7.19</td>\n",
       "      <td>4.09</td>\n",
       "      <td>2.4</td>\n",
       "    </tr>\n",
       "    <tr>\n",
       "      <th>2</th>\n",
       "      <td>M77/1_455-1</td>\n",
       "      <td>-11.0000</td>\n",
       "      <td>-78.3207</td>\n",
       "      <td>-466</td>\n",
       "      <td>M77-1 455/MUC-21</td>\n",
       "      <td>H. elegans</td>\n",
       "      <td>8</td>\n",
       "      <td>0.19</td>\n",
       "      <td>34.57</td>\n",
       "      <td>6.78</td>\n",
       "      <td>2.4</td>\n",
       "    </tr>\n",
       "    <tr>\n",
       "      <th>3</th>\n",
       "      <td>M77/1_459-1</td>\n",
       "      <td>-11.0005</td>\n",
       "      <td>-78.4268</td>\n",
       "      <td>-697</td>\n",
       "      <td>M77-1 459/MUC-25</td>\n",
       "      <td>U. peregrina</td>\n",
       "      <td>1</td>\n",
       "      <td>0.48</td>\n",
       "      <td>NaN</td>\n",
       "      <td>3.55</td>\n",
       "      <td>12.6</td>\n",
       "    </tr>\n",
       "    <tr>\n",
       "      <th>4</th>\n",
       "      <td>M77/1_459-1</td>\n",
       "      <td>-11.0005</td>\n",
       "      <td>-78.4268</td>\n",
       "      <td>-697</td>\n",
       "      <td>M77-1 459/MUC-25</td>\n",
       "      <td>U. striata</td>\n",
       "      <td>1</td>\n",
       "      <td>0.91</td>\n",
       "      <td>NaN</td>\n",
       "      <td>2.35</td>\n",
       "      <td>12.6</td>\n",
       "    </tr>\n",
       "    <tr>\n",
       "      <th>5</th>\n",
       "      <td>M77/1_487-1</td>\n",
       "      <td>-11.0000</td>\n",
       "      <td>-78.3862</td>\n",
       "      <td>-580</td>\n",
       "      <td>M77-1 487/MUC-38</td>\n",
       "      <td>U. striata</td>\n",
       "      <td>12</td>\n",
       "      <td>0.43</td>\n",
       "      <td>6.86</td>\n",
       "      <td>2.51</td>\n",
       "      <td>3.7</td>\n",
       "    </tr>\n",
       "    <tr>\n",
       "      <th>6</th>\n",
       "      <td>M77/1_487-1</td>\n",
       "      <td>-11.0000</td>\n",
       "      <td>-78.3862</td>\n",
       "      <td>-580</td>\n",
       "      <td>M77-1 487/MUC-38</td>\n",
       "      <td>P. limbata</td>\n",
       "      <td>5</td>\n",
       "      <td>1.32</td>\n",
       "      <td>22.80</td>\n",
       "      <td>1.67</td>\n",
       "      <td>3.7</td>\n",
       "    </tr>\n",
       "    <tr>\n",
       "      <th>7</th>\n",
       "      <td>M77/1_487-1</td>\n",
       "      <td>-11.0000</td>\n",
       "      <td>-78.3862</td>\n",
       "      <td>-580</td>\n",
       "      <td>M77-1 487/MUC-38</td>\n",
       "      <td>H. elegans</td>\n",
       "      <td>9</td>\n",
       "      <td>0.13</td>\n",
       "      <td>4.89</td>\n",
       "      <td>6.34</td>\n",
       "      <td>3.7</td>\n",
       "    </tr>\n",
       "    <tr>\n",
       "      <th>8</th>\n",
       "      <td>M77/1_516-1</td>\n",
       "      <td>-11.0000</td>\n",
       "      <td>-78.3487</td>\n",
       "      <td>-512</td>\n",
       "      <td>M77-1 516/MUC-40</td>\n",
       "      <td>U. striata</td>\n",
       "      <td>1</td>\n",
       "      <td>0.57</td>\n",
       "      <td>NaN</td>\n",
       "      <td>3.13</td>\n",
       "      <td>2.4</td>\n",
       "    </tr>\n",
       "    <tr>\n",
       "      <th>9</th>\n",
       "      <td>M77/1_553-1</td>\n",
       "      <td>-10.4397</td>\n",
       "      <td>-78.9122</td>\n",
       "      <td>-522</td>\n",
       "      <td>M77-1 553/MUC-54</td>\n",
       "      <td>P. limbata</td>\n",
       "      <td>1</td>\n",
       "      <td>1.34</td>\n",
       "      <td>NaN</td>\n",
       "      <td>1.99</td>\n",
       "      <td>3.0</td>\n",
       "    </tr>\n",
       "    <tr>\n",
       "      <th>10</th>\n",
       "      <td>M77/1_565-1</td>\n",
       "      <td>-11.1337</td>\n",
       "      <td>-78.3558</td>\n",
       "      <td>-649</td>\n",
       "      <td>M77-1 565/MUC-59</td>\n",
       "      <td>U. striata</td>\n",
       "      <td>28</td>\n",
       "      <td>0.54</td>\n",
       "      <td>6.56</td>\n",
       "      <td>2.15</td>\n",
       "      <td>8.2</td>\n",
       "    </tr>\n",
       "    <tr>\n",
       "      <th>11</th>\n",
       "      <td>M77/1_565-1</td>\n",
       "      <td>-11.1337</td>\n",
       "      <td>-78.3558</td>\n",
       "      <td>-649</td>\n",
       "      <td>M77-1 565/MUC-59</td>\n",
       "      <td>P. limbata</td>\n",
       "      <td>8</td>\n",
       "      <td>1.22</td>\n",
       "      <td>6.84</td>\n",
       "      <td>2.07</td>\n",
       "      <td>8.2</td>\n",
       "    </tr>\n",
       "    <tr>\n",
       "      <th>12</th>\n",
       "      <td>M77/1_604-1</td>\n",
       "      <td>-11.2995</td>\n",
       "      <td>-78.3735</td>\n",
       "      <td>-878</td>\n",
       "      <td>M77-1 604/MUC-74</td>\n",
       "      <td>H. elegans</td>\n",
       "      <td>1</td>\n",
       "      <td>0.29</td>\n",
       "      <td>NaN</td>\n",
       "      <td>5.87</td>\n",
       "      <td>34.2</td>\n",
       "    </tr>\n",
       "    <tr>\n",
       "      <th>13</th>\n",
       "      <td>M77/1_604-1</td>\n",
       "      <td>-11.2995</td>\n",
       "      <td>-78.3735</td>\n",
       "      <td>-878</td>\n",
       "      <td>M77-1 604/MUC-74</td>\n",
       "      <td>U. peregrina</td>\n",
       "      <td>1</td>\n",
       "      <td>0.40</td>\n",
       "      <td>NaN</td>\n",
       "      <td>4.87</td>\n",
       "      <td>34.2</td>\n",
       "    </tr>\n",
       "    <tr>\n",
       "      <th>14</th>\n",
       "      <td>M77/2_047-3</td>\n",
       "      <td>-7.8668</td>\n",
       "      <td>-80.5227</td>\n",
       "      <td>-625</td>\n",
       "      <td>M77-2 47-3</td>\n",
       "      <td>U. striata</td>\n",
       "      <td>1</td>\n",
       "      <td>0.41</td>\n",
       "      <td>NaN</td>\n",
       "      <td>4.47</td>\n",
       "      <td>8.1</td>\n",
       "    </tr>\n",
       "  </tbody>\n",
       "</table>\n",
       "</div>"
      ],
      "text/plain": [
       "          Event  Latitude  Longitude  Elevation      Sample label  \\\n",
       "0   M77/1_406-1  -17.4667   -71.8732       -491  M77-1 406/MUC-06   \n",
       "1   M77/1_455-1  -11.0000   -78.3207       -466  M77-1 455/MUC-21   \n",
       "2   M77/1_455-1  -11.0000   -78.3207       -466  M77-1 455/MUC-21   \n",
       "3   M77/1_459-1  -11.0005   -78.4268       -697  M77-1 459/MUC-25   \n",
       "4   M77/1_459-1  -11.0005   -78.4268       -697  M77-1 459/MUC-25   \n",
       "5   M77/1_487-1  -11.0000   -78.3862       -580  M77-1 487/MUC-38   \n",
       "6   M77/1_487-1  -11.0000   -78.3862       -580  M77-1 487/MUC-38   \n",
       "7   M77/1_487-1  -11.0000   -78.3862       -580  M77-1 487/MUC-38   \n",
       "8   M77/1_516-1  -11.0000   -78.3487       -512  M77-1 516/MUC-40   \n",
       "9   M77/1_553-1  -10.4397   -78.9122       -522  M77-1 553/MUC-54   \n",
       "10  M77/1_565-1  -11.1337   -78.3558       -649  M77-1 565/MUC-59   \n",
       "11  M77/1_565-1  -11.1337   -78.3558       -649  M77-1 565/MUC-59   \n",
       "12  M77/1_604-1  -11.2995   -78.3735       -878  M77-1 604/MUC-74   \n",
       "13  M77/1_604-1  -11.2995   -78.3735       -878  M77-1 604/MUC-74   \n",
       "14  M77/2_047-3   -7.8668   -80.5227       -625        M77-2 47-3   \n",
       "\n",
       "         Species   n  I/Ca  Uncertainty  Precip    O2  \n",
       "0     P. limbata   1  2.20          NaN    1.28  25.2  \n",
       "1     U. striata   6  0.32         7.19    4.09   2.4  \n",
       "2     H. elegans   8  0.19        34.57    6.78   2.4  \n",
       "3   U. peregrina   1  0.48          NaN    3.55  12.6  \n",
       "4     U. striata   1  0.91          NaN    2.35  12.6  \n",
       "5     U. striata  12  0.43         6.86    2.51   3.7  \n",
       "6     P. limbata   5  1.32        22.80    1.67   3.7  \n",
       "7     H. elegans   9  0.13         4.89    6.34   3.7  \n",
       "8     U. striata   1  0.57          NaN    3.13   2.4  \n",
       "9     P. limbata   1  1.34          NaN    1.99   3.0  \n",
       "10    U. striata  28  0.54         6.56    2.15   8.2  \n",
       "11    P. limbata   8  1.22         6.84    2.07   8.2  \n",
       "12    H. elegans   1  0.29          NaN    5.87  34.2  \n",
       "13  U. peregrina   1  0.40          NaN    4.87  34.2  \n",
       "14    U. striata   1  0.41          NaN    4.47   8.1  "
      ]
     },
     "execution_count": 25,
     "metadata": {},
     "output_type": "execute_result"
    }
   ],
   "source": [
    "pangaea_data.data"
   ]
  }
 ],
 "metadata": {
  "kernelspec": {
   "display_name": "2020-11_MarDataBC_pythonII",
   "language": "python",
   "name": "2020-11_mardatabc_pythonii"
  },
  "language_info": {
   "codemirror_mode": {
    "name": "ipython",
    "version": 3
   },
   "file_extension": ".py",
   "mimetype": "text/x-python",
   "name": "python",
   "nbconvert_exporter": "python",
   "pygments_lexer": "ipython3",
   "version": "3.7.6"
  }
 },
 "nbformat": 4,
 "nbformat_minor": 4
}
